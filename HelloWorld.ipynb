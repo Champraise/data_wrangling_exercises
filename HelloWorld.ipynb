{
 "cells": [
  {
   "cell_type": "code",
   "execution_count": 1,
   "metadata": {},
   "outputs": [
    {
     "name": "stdout",
     "output_type": "stream",
     "text": [
      "Hello World\n",
      "Python is a great language\n"
     ]
    }
   ],
   "source": [
    "print(\"Hello World\")\n",
    "# write a simple code to print the python quotes\n",
    "print(\"Python is a great language\")"
   ]
  },
  {
   "cell_type": "code",
   "execution_count": 2,
   "metadata": {},
   "outputs": [
    {
     "name": "stdout",
     "output_type": "stream",
     "text": [
      "Tochukwu Ofodum\n"
     ]
    }
   ],
   "source": [
    "author = \"Tochukwu Ofodum\"\n",
    "print(author)"
   ]
  },
  {
   "cell_type": "code",
   "execution_count": 6,
   "metadata": {},
   "outputs": [
    {
     "name": "stdout",
     "output_type": "stream",
     "text": [
      "['Hello', 'World!']\n"
     ]
    }
   ],
   "source": [
    "# splitting a string \"literal\" and then printing the result\n",
    "split_world = \"Hello World!\".split()\n",
    "print(split_world)"
   ]
  },
  {
   "cell_type": "code",
   "execution_count": 1,
   "metadata": {},
   "outputs": [
    {
     "name": "stdout",
     "output_type": "stream",
     "text": [
      "HelloTochukwu Ofodum\n",
      "HelloJeff Bleiel\n"
     ]
    }
   ],
   "source": [
    "# create a function that prints out a greeting to any name passed to the function\n",
    "def greet_me(a_name):\n",
    "    print(\"Hello\"+a_name)\n",
    "\n",
    "# create a variable name author\n",
    "author = \"Tochukwu Ofodum\"\n",
    "\n",
    "# create another named editor\n",
    "editor = \"Jeff Bleiel\"\n",
    "\n",
    "# Use my custom function, `greet me` to output \"Hello\" messages to each person\n",
    "greet_me(author)\n",
    "greet_me(editor)"
   ]
  },
  {
   "cell_type": "code",
   "execution_count": 2,
   "metadata": {},
   "outputs": [
    {
     "name": "stdout",
     "output_type": "stream",
     "text": [
      "291\n"
     ]
    }
   ],
   "source": [
    "# create a list that contains the number of pages in each chapter\n",
    "# of a fictional print version of this book.\n",
    "\n",
    "# fictional list of chapter page counts\n",
    "page_counts = [28, 32, 44, 23, 56, 32, 12, 34, 30]\n",
    "\n",
    "# variable for tracking total page count: starting value is 0\n",
    "total_pages = 0\n",
    "\n",
    "# for every item in the list, perform some action\n",
    "for a_number in page_counts:\n",
    "    # in this case, add the number to our \"total_pages\" variable\n",
    "    total_pages += a_number\n",
    "print(total_pages)"
   ]
  },
  {
   "cell_type": "code",
   "execution_count": 3,
   "metadata": {},
   "outputs": [
    {
     "name": "stdout",
     "output_type": "stream",
     "text": [
      "Top of the Loop!\n",
      "The current item: 28\n",
      "Total pages: 28\n",
      "Bottom of the Loop\n",
      "Top of the Loop!\n",
      "The current item: 32\n",
      "Total pages: 60\n",
      "Bottom of the Loop\n",
      "Top of the Loop!\n",
      "The current item: 44\n",
      "Total pages: 104\n",
      "Bottom of the Loop\n",
      "Top of the Loop!\n",
      "The current item: 23\n",
      "Total pages: 127\n",
      "Bottom of the Loop\n",
      "Top of the Loop!\n",
      "The current item: 56\n",
      "Total pages: 183\n",
      "Bottom of the Loop\n",
      "Top of the Loop!\n",
      "The current item: 32\n",
      "Total pages: 215\n",
      "Bottom of the Loop\n",
      "Top of the Loop!\n",
      "The current item: 12\n",
      "Total pages: 227\n",
      "Bottom of the Loop\n",
      "Top of the Loop!\n",
      "The current item: 34\n",
      "Total pages: 261\n",
      "Bottom of the Loop\n",
      "Top of the Loop!\n",
      "The current item: 30\n",
      "Total pages: 291\n",
      "Bottom of the Loop\n",
      "291 pages\n"
     ]
    }
   ],
   "source": [
    "# fictional list of chapter page counts\n",
    "page_counts = [28, 32, 44, 23, 56, 32, 12, 34, 30]\n",
    "\n",
    "# variable for tracking total page count: starting value is 0\n",
    "total_pages = 0\n",
    "\n",
    "# for every item in the list, perform some action\n",
    "for a_number in page_counts:\n",
    "    print(\"Top of the Loop!\")\n",
    "    print(\"The current item: \" + str(a_number))\n",
    "    total_pages += a_number\n",
    "    print(\"Total pages: \" + str(total_pages))\n",
    "    print(\"Bottom of the Loop\")\n",
    "print(str(total_pages) + \" pages\")"
   ]
  },
  {
   "cell_type": "code",
   "execution_count": null,
   "metadata": {},
   "outputs": [],
   "source": [
    "# fictional list of chapter page counts\n",
    "page_counts = [28, 32, 44, 23, 22, 21, 56, 32, 12, 34, 30]\n",
    "\n",
    "# `print(page_counts)` the result of the `sum()` function on the list\n",
    "print(sum(page_counts))"
   ]
  },
  {
   "cell_type": "code",
   "execution_count": null,
   "metadata": {},
   "outputs": [],
   "source": [
    "page_counts = [28, 32, 44, 23, 56, 32, 12, 34, 30]\n",
    "\n",
    "def count_pages(page_count_list):\n",
    "# create variable to keep track of:\n",
    "# the total pages in the book\n",
    "    total_pages = 0\n",
    "    # the number of chapters with more than 30 pages\n",
    "    under_30 = 0\n",
    "    # the number of chapters with fewer than 30 pages\n",
    "    over_30 = 0\n",
    "    # for every item in the page_counts list:\n",
    "    for a_number in page_count_list:\n",
    "        #add the current number of pages to our total_pages count\n",
    "        total_pages += a_number\n",
    "        # check if the current number of pages is more than 30\n",
    "        if a_number > 30:\n",
    "            # if so, add 1 to our over_30 counter\n",
    "            over_30 += 1\n",
    "        # otherwise, add 1 to our under_30 counter\n",
    "        else:\n",
    "            # add 1 to our under_30 counter\n",
    "            under_30 += 1\n",
    "    # print our various result values\n",
    "    print(total_pages)\n",
    "    print(\"Number of chapters with more than 30 pages: \" + str(over_30))\n",
    "    print(\"Number of chapters with less than 30 pages: \" + str(under_30))\n",
    "# call/execute this \"recipe\", being sure to pass in our\n",
    "# actual list as an argument/ingredient\n",
    "count_pages(page_counts)"
   ]
  },
  {
   "cell_type": "markdown",
   "metadata": {},
   "source": [
    "### Pseudocode helps map how your code works and will help during debugging. You can start:\n",
    "1. State my question.\n",
    "2. Describe how I will \"answer\" my question.\n",
    "3. Outline in plain language the steps my program will take.\n",
    "\n",
    "\n",
    "Example code\n",
    "Question: How many Citi Bike rides each day are taken by \"subscribers\" versus \"customers\"?\n",
    "\n",
    "Answer: Choose a single day of rides to examine.\n",
    "\n",
    "Program Outline:\n",
    "1. read in the data file: **filename.csv**\n",
    "2. create variables to count: subscribers, customers, and others\n",
    "3. for each row in the file:\n",
    "   1. If the \"User Type\" is \"Subscriber,\" add 1 to \"subscriber_count\"\n",
    "   2. if the \"User Type\" is \"Customer\", add 1 to \"customer_count\"\n",
    "   3. Otherwise, add 1 to \"other_count\".\n",
    "4. print out my results."
   ]
  },
  {
   "cell_type": "markdown",
   "metadata": {},
   "source": []
  }
 ],
 "metadata": {
  "kernelspec": {
   "display_name": "data_science",
   "language": "python",
   "name": "python3"
  },
  "language_info": {
   "codemirror_mode": {
    "name": "ipython",
    "version": 3
   },
   "file_extension": ".py",
   "mimetype": "text/x-python",
   "name": "python",
   "nbconvert_exporter": "python",
   "pygments_lexer": "ipython3",
   "version": "3.11.9"
  },
  "orig_nbformat": 4
 },
 "nbformat": 4,
 "nbformat_minor": 2
}
